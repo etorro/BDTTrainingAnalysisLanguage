{
 "cells": [
  {
   "cell_type": "markdown",
   "metadata": {},
   "source": [
    "# Import into Pandas from an ATLAS xAOD\n",
    "\n",
    "This is a sample script that uses the ad-hoc analysis library to extract jet pt's from an ATLAS xAOD file."
   ]
  },
  {
   "cell_type": "markdown",
   "metadata": {},
   "source": [
    "## Setup and Config"
   ]
  },
  {
   "cell_type": "code",
   "execution_count": 1,
   "metadata": {},
   "outputs": [],
   "source": [
    "fname = r\"file://G:/mc16_13TeV/AOD.16300985._000011.pool.root.1\""
   ]
  },
  {
   "cell_type": "code",
   "execution_count": 2,
   "metadata": {},
   "outputs": [
    {
     "name": "stdout",
     "output_type": "stream",
     "text": [
      "Wall time: 701 ms\n"
     ]
    }
   ],
   "source": [
    "%%time\n",
    "from clientlib.DataSets import EventDataSet"
   ]
  },
  {
   "cell_type": "markdown",
   "metadata": {},
   "source": [
    "## Import the events into a Pandas array.\n",
    "\n",
    "This requires docker installed. As this is a proof of principle, a lot of stuff is hardwired.\n",
    "\n",
    "First thing we do is turn a dataset into an implicit stream of events."
   ]
  },
  {
   "cell_type": "code",
   "execution_count": 3,
   "metadata": {},
   "outputs": [
    {
     "name": "stdout",
     "output_type": "stream",
     "text": [
      "Wall time: 0 ns\n"
     ]
    }
   ],
   "source": [
    "%%time\n",
    "f = EventDataSet(r\"file://G:/mc16_13TeV/AOD.16300985._000011.pool.root.1\")\n",
    "events = f.AsATLASEvents()"
   ]
  },
  {
   "cell_type": "markdown",
   "metadata": {},
   "source": [
    "Next, we will select a stream of jet pt's. Here, these are every jet pt from every event strung together in a continuous stream.\n",
    "\n",
    "- ``events`` is a sequence of events, one event after the next.\n",
    "- ``SelectMany`` take each event, grabs the jets, and returns a sequence of jets. The result of the ``SelectMany`` is now a sequence of all jets in the file, from all events.\n",
    "- ``Select`` takes each jet and replaces with the jet's pt. Now the sequence is of floats, representing the pT."
   ]
  },
  {
   "cell_type": "code",
   "execution_count": 4,
   "metadata": {},
   "outputs": [
    {
     "name": "stdout",
     "output_type": "stream",
     "text": [
      "Wall time: 0 ns\n"
     ]
    }
   ],
   "source": [
    "%%time\n",
    "jet_pts = events \\\n",
    "            .SelectMany(\"lambda e: e.Jets('AntiKt4EMTopoJets')\") \\\n",
    "            .Select(\"lambda j: j.pt()\")"
   ]
  },
  {
   "cell_type": "markdown",
   "metadata": {},
   "source": [
    "And finally turn it into a pandas data frame. Each row has a single jet pt.\n",
    "\n",
    "At this point no execution happens - a \"future\" is now setup with the pandas dataframe."
   ]
  },
  {
   "cell_type": "code",
   "execution_count": 5,
   "metadata": {},
   "outputs": [
    {
     "name": "stdout",
     "output_type": "stream",
     "text": [
      "Wall time: 0 ns\n"
     ]
    }
   ],
   "source": [
    "%%time\n",
    "training_df = jet_pts.AsPandasDF(columns=['JetPt'])"
   ]
  },
  {
   "cell_type": "markdown",
   "metadata": {},
   "source": [
    "Finally, we turn it into something real. The following steps occur:\n",
    "\n",
    "1. Some C++ code is written to access, read the xAOD jet's, create a ttree, and write it out.\n",
    "1. A docker container with the ATLAS envrionment is started. The code and the data file location are mapped into it.\n",
    "1. The code is compiled, and then run.\n",
    "1. The output ROOT file is loaded with uproot and a DF is created.\n",
    "1. All that temporary code and data is removed.\n",
    "\n",
    "There is a fair amount of log file information that appears in the notebook engine window. At the moement that is not correctly redirected here - so you can see evidence of it running there."
   ]
  },
  {
   "cell_type": "code",
   "execution_count": 6,
   "metadata": {},
   "outputs": [
    {
     "name": "stdout",
     "output_type": "stream",
     "text": [
      "Wall time: 30.3 s\n"
     ]
    }
   ],
   "source": [
    "%%time\n",
    "df = training_df.value()"
   ]
  },
  {
   "cell_type": "markdown",
   "metadata": {},
   "source": [
    "## The Dataframe\n",
    "\n",
    "Now we can play with the dataframe as we wish."
   ]
  },
  {
   "cell_type": "code",
   "execution_count": 7,
   "metadata": {},
   "outputs": [
    {
     "data": {
      "text/html": [
       "<div>\n",
       "<style scoped>\n",
       "    .dataframe tbody tr th:only-of-type {\n",
       "        vertical-align: middle;\n",
       "    }\n",
       "\n",
       "    .dataframe tbody tr th {\n",
       "        vertical-align: top;\n",
       "    }\n",
       "\n",
       "    .dataframe thead th {\n",
       "        text-align: right;\n",
       "    }\n",
       "</style>\n",
       "<table border=\"1\" class=\"dataframe\">\n",
       "  <thead>\n",
       "    <tr style=\"text-align: right;\">\n",
       "      <th></th>\n",
       "      <th>JetPt</th>\n",
       "    </tr>\n",
       "  </thead>\n",
       "  <tbody>\n",
       "    <tr>\n",
       "      <th>0</th>\n",
       "      <td>257316.437500</td>\n",
       "    </tr>\n",
       "    <tr>\n",
       "      <th>1</th>\n",
       "      <td>253132.328125</td>\n",
       "    </tr>\n",
       "    <tr>\n",
       "      <th>2</th>\n",
       "      <td>47169.453125</td>\n",
       "    </tr>\n",
       "    <tr>\n",
       "      <th>3</th>\n",
       "      <td>39030.281250</td>\n",
       "    </tr>\n",
       "    <tr>\n",
       "      <th>4</th>\n",
       "      <td>30013.857422</td>\n",
       "    </tr>\n",
       "    <tr>\n",
       "      <th>5</th>\n",
       "      <td>26433.212891</td>\n",
       "    </tr>\n",
       "    <tr>\n",
       "      <th>6</th>\n",
       "      <td>25472.306641</td>\n",
       "    </tr>\n",
       "    <tr>\n",
       "      <th>7</th>\n",
       "      <td>25208.580078</td>\n",
       "    </tr>\n",
       "    <tr>\n",
       "      <th>8</th>\n",
       "      <td>24981.439453</td>\n",
       "    </tr>\n",
       "    <tr>\n",
       "      <th>9</th>\n",
       "      <td>24315.888672</td>\n",
       "    </tr>\n",
       "    <tr>\n",
       "      <th>10</th>\n",
       "      <td>23916.593750</td>\n",
       "    </tr>\n",
       "    <tr>\n",
       "      <th>11</th>\n",
       "      <td>23320.441406</td>\n",
       "    </tr>\n",
       "    <tr>\n",
       "      <th>12</th>\n",
       "      <td>21800.621094</td>\n",
       "    </tr>\n",
       "    <tr>\n",
       "      <th>13</th>\n",
       "      <td>21573.513672</td>\n",
       "    </tr>\n",
       "    <tr>\n",
       "      <th>14</th>\n",
       "      <td>21487.826172</td>\n",
       "    </tr>\n",
       "    <tr>\n",
       "      <th>15</th>\n",
       "      <td>21119.816406</td>\n",
       "    </tr>\n",
       "    <tr>\n",
       "      <th>16</th>\n",
       "      <td>19627.083984</td>\n",
       "    </tr>\n",
       "    <tr>\n",
       "      <th>17</th>\n",
       "      <td>19367.871094</td>\n",
       "    </tr>\n",
       "    <tr>\n",
       "      <th>18</th>\n",
       "      <td>19057.343750</td>\n",
       "    </tr>\n",
       "    <tr>\n",
       "      <th>19</th>\n",
       "      <td>18921.443359</td>\n",
       "    </tr>\n",
       "    <tr>\n",
       "      <th>20</th>\n",
       "      <td>18671.941406</td>\n",
       "    </tr>\n",
       "    <tr>\n",
       "      <th>21</th>\n",
       "      <td>18512.601562</td>\n",
       "    </tr>\n",
       "    <tr>\n",
       "      <th>22</th>\n",
       "      <td>18371.689453</td>\n",
       "    </tr>\n",
       "    <tr>\n",
       "      <th>23</th>\n",
       "      <td>18050.986328</td>\n",
       "    </tr>\n",
       "    <tr>\n",
       "      <th>24</th>\n",
       "      <td>17562.011719</td>\n",
       "    </tr>\n",
       "    <tr>\n",
       "      <th>25</th>\n",
       "      <td>16666.787109</td>\n",
       "    </tr>\n",
       "    <tr>\n",
       "      <th>26</th>\n",
       "      <td>16664.050781</td>\n",
       "    </tr>\n",
       "    <tr>\n",
       "      <th>27</th>\n",
       "      <td>16077.772461</td>\n",
       "    </tr>\n",
       "    <tr>\n",
       "      <th>28</th>\n",
       "      <td>15918.267578</td>\n",
       "    </tr>\n",
       "    <tr>\n",
       "      <th>29</th>\n",
       "      <td>15148.814453</td>\n",
       "    </tr>\n",
       "    <tr>\n",
       "      <th>...</th>\n",
       "      <td>...</td>\n",
       "    </tr>\n",
       "    <tr>\n",
       "      <th>30234</th>\n",
       "      <td>18382.908203</td>\n",
       "    </tr>\n",
       "    <tr>\n",
       "      <th>30235</th>\n",
       "      <td>18190.410156</td>\n",
       "    </tr>\n",
       "    <tr>\n",
       "      <th>30236</th>\n",
       "      <td>17746.226562</td>\n",
       "    </tr>\n",
       "    <tr>\n",
       "      <th>30237</th>\n",
       "      <td>15085.906250</td>\n",
       "    </tr>\n",
       "    <tr>\n",
       "      <th>30238</th>\n",
       "      <td>295982.093750</td>\n",
       "    </tr>\n",
       "    <tr>\n",
       "      <th>30239</th>\n",
       "      <td>239013.140625</td>\n",
       "    </tr>\n",
       "    <tr>\n",
       "      <th>30240</th>\n",
       "      <td>137131.562500</td>\n",
       "    </tr>\n",
       "    <tr>\n",
       "      <th>30241</th>\n",
       "      <td>58332.171875</td>\n",
       "    </tr>\n",
       "    <tr>\n",
       "      <th>30242</th>\n",
       "      <td>42648.203125</td>\n",
       "    </tr>\n",
       "    <tr>\n",
       "      <th>30243</th>\n",
       "      <td>23176.007812</td>\n",
       "    </tr>\n",
       "    <tr>\n",
       "      <th>30244</th>\n",
       "      <td>22648.980469</td>\n",
       "    </tr>\n",
       "    <tr>\n",
       "      <th>30245</th>\n",
       "      <td>21492.646484</td>\n",
       "    </tr>\n",
       "    <tr>\n",
       "      <th>30246</th>\n",
       "      <td>21363.677734</td>\n",
       "    </tr>\n",
       "    <tr>\n",
       "      <th>30247</th>\n",
       "      <td>20287.056641</td>\n",
       "    </tr>\n",
       "    <tr>\n",
       "      <th>30248</th>\n",
       "      <td>19676.744141</td>\n",
       "    </tr>\n",
       "    <tr>\n",
       "      <th>30249</th>\n",
       "      <td>19193.904297</td>\n",
       "    </tr>\n",
       "    <tr>\n",
       "      <th>30250</th>\n",
       "      <td>18501.714844</td>\n",
       "    </tr>\n",
       "    <tr>\n",
       "      <th>30251</th>\n",
       "      <td>18332.027344</td>\n",
       "    </tr>\n",
       "    <tr>\n",
       "      <th>30252</th>\n",
       "      <td>17991.517578</td>\n",
       "    </tr>\n",
       "    <tr>\n",
       "      <th>30253</th>\n",
       "      <td>17980.474609</td>\n",
       "    </tr>\n",
       "    <tr>\n",
       "      <th>30254</th>\n",
       "      <td>17530.179688</td>\n",
       "    </tr>\n",
       "    <tr>\n",
       "      <th>30255</th>\n",
       "      <td>16257.758789</td>\n",
       "    </tr>\n",
       "    <tr>\n",
       "      <th>30256</th>\n",
       "      <td>15836.512695</td>\n",
       "    </tr>\n",
       "    <tr>\n",
       "      <th>30257</th>\n",
       "      <td>373230.875000</td>\n",
       "    </tr>\n",
       "    <tr>\n",
       "      <th>30258</th>\n",
       "      <td>197725.812500</td>\n",
       "    </tr>\n",
       "    <tr>\n",
       "      <th>30259</th>\n",
       "      <td>176597.296875</td>\n",
       "    </tr>\n",
       "    <tr>\n",
       "      <th>30260</th>\n",
       "      <td>153065.796875</td>\n",
       "    </tr>\n",
       "    <tr>\n",
       "      <th>30261</th>\n",
       "      <td>21700.492188</td>\n",
       "    </tr>\n",
       "    <tr>\n",
       "      <th>30262</th>\n",
       "      <td>17685.564453</td>\n",
       "    </tr>\n",
       "    <tr>\n",
       "      <th>30263</th>\n",
       "      <td>15851.001953</td>\n",
       "    </tr>\n",
       "  </tbody>\n",
       "</table>\n",
       "<p>30264 rows × 1 columns</p>\n",
       "</div>"
      ],
      "text/plain": [
       "               JetPt\n",
       "0      257316.437500\n",
       "1      253132.328125\n",
       "2       47169.453125\n",
       "3       39030.281250\n",
       "4       30013.857422\n",
       "5       26433.212891\n",
       "6       25472.306641\n",
       "7       25208.580078\n",
       "8       24981.439453\n",
       "9       24315.888672\n",
       "10      23916.593750\n",
       "11      23320.441406\n",
       "12      21800.621094\n",
       "13      21573.513672\n",
       "14      21487.826172\n",
       "15      21119.816406\n",
       "16      19627.083984\n",
       "17      19367.871094\n",
       "18      19057.343750\n",
       "19      18921.443359\n",
       "20      18671.941406\n",
       "21      18512.601562\n",
       "22      18371.689453\n",
       "23      18050.986328\n",
       "24      17562.011719\n",
       "25      16666.787109\n",
       "26      16664.050781\n",
       "27      16077.772461\n",
       "28      15918.267578\n",
       "29      15148.814453\n",
       "...              ...\n",
       "30234   18382.908203\n",
       "30235   18190.410156\n",
       "30236   17746.226562\n",
       "30237   15085.906250\n",
       "30238  295982.093750\n",
       "30239  239013.140625\n",
       "30240  137131.562500\n",
       "30241   58332.171875\n",
       "30242   42648.203125\n",
       "30243   23176.007812\n",
       "30244   22648.980469\n",
       "30245   21492.646484\n",
       "30246   21363.677734\n",
       "30247   20287.056641\n",
       "30248   19676.744141\n",
       "30249   19193.904297\n",
       "30250   18501.714844\n",
       "30251   18332.027344\n",
       "30252   17991.517578\n",
       "30253   17980.474609\n",
       "30254   17530.179688\n",
       "30255   16257.758789\n",
       "30256   15836.512695\n",
       "30257  373230.875000\n",
       "30258  197725.812500\n",
       "30259  176597.296875\n",
       "30260  153065.796875\n",
       "30261   21700.492188\n",
       "30262   17685.564453\n",
       "30263   15851.001953\n",
       "\n",
       "[30264 rows x 1 columns]"
      ]
     },
     "execution_count": 7,
     "metadata": {},
     "output_type": "execute_result"
    }
   ],
   "source": [
    "df"
   ]
  },
  {
   "cell_type": "code",
   "execution_count": 8,
   "metadata": {},
   "outputs": [
    {
     "name": "stdout",
     "output_type": "stream",
     "text": [
      "Wall time: 235 ms\n"
     ]
    }
   ],
   "source": [
    "%%time\n",
    "import matplotlib.pyplot as plt"
   ]
  },
  {
   "cell_type": "code",
   "execution_count": 9,
   "metadata": {},
   "outputs": [
    {
     "data": {
      "image/png": "[encoded data removed]",
      "text/plain": [
       "<Figure size 432x288 with 1 Axes>"
      ]
     },
     "metadata": {
      "needs_background": "light"
     },
     "output_type": "display_data"
    }
   ],
   "source": [
    "_ = plt.hist(df.JetPt/1000.0, bins=100)\n",
    "_ = plt.xlabel(\"Jet $p_T$ [GeV]\")"
   ]
  },
  {
   "cell_type": "markdown",
   "metadata": {},
   "source": [
    "## Limitations\n",
    "\n",
    "This is demo code. There are a number of limitations:\n",
    "\n",
    "- Only \"Jets\" is understood (the only collection that can be accessed). Tho you can alter the name of the collection you want to access.\n",
    "- Nothing more complex than \"j.pt()\" is allowed. While \"j.eta()\" is ok, \"j.pt()/1000.0\" is not allowed.\n",
    "- Only a single query at a time is possible. So currently limited to a single column in the output data frame."
   ]
  }
 ],
 "metadata": {
  "kernelspec": {
   "display_name": "Python 3",
   "language": "python",
   "name": "python3"
  },
  "language_info": {
   "codemirror_mode": {
    "name": "ipython",
    "version": 3
   },
   "file_extension": ".py",
   "mimetype": "text/x-python",
   "name": "python",
   "nbconvert_exporter": "python",
   "pygments_lexer": "ipython3",
   "version": "3.6.7"
  }
 },
 "nbformat": 4,
 "nbformat_minor": 2
}
