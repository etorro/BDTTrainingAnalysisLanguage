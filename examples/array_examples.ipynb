{
 "cells": [
  {
   "cell_type": "markdown",
   "metadata": {},
   "source": [
    "# Simple array example"
   ]
  },
  {
   "cell_type": "code",
   "execution_count": 1,
   "metadata": {},
   "outputs": [],
   "source": [
    "import numpy"
   ]
  },
  {
   "cell_type": "code",
   "execution_count": 2,
   "metadata": {},
   "outputs": [],
   "source": [
    "simple_array = numpy.ndarray(5, numpy.dtype([('col1', numpy.float32), ('col2', numpy.float32)]))\n",
    "n = 0\n",
    "for i in range(5):\n",
    "    for j in range(2):\n",
    "        simple_array[i][j] = n\n",
    "        n += 1"
   ]
  },
  {
   "cell_type": "markdown",
   "metadata": {},
   "source": [
    "**Example array with a couple simple columns:**"
   ]
  },
  {
   "cell_type": "code",
   "execution_count": 3,
   "metadata": {},
   "outputs": [
    {
     "data": {
      "text/plain": [
       "array([(0., 1.), (2., 3.), (4., 5.), (6., 7.), (8., 9.)],\n",
       "      dtype=[('col1', '<f4'), ('col2', '<f4')])"
      ]
     },
     "execution_count": 3,
     "metadata": {},
     "output_type": "execute_result"
    }
   ],
   "source": [
    "simple_array"
   ]
  },
  {
   "cell_type": "code",
   "execution_count": 4,
   "metadata": {},
   "outputs": [],
   "source": [
    "simple_input_pathname = 'simple_data.npy'"
   ]
  },
  {
   "cell_type": "code",
   "execution_count": 5,
   "metadata": {},
   "outputs": [],
   "source": [
    "numpy.save(simple_input_pathname, simple_array)"
   ]
  },
  {
   "cell_type": "code",
   "execution_count": 6,
   "metadata": {},
   "outputs": [],
   "source": [
    "from clientlib.DataSets import ArrayDataSet"
   ]
  },
  {
   "cell_type": "code",
   "execution_count": 7,
   "metadata": {},
   "outputs": [],
   "source": [
    "simple_dataset = ArrayDataSet(simple_input_pathname)\n",
    "simple_array_stream = simple_dataset.AsNumpyArray()"
   ]
  },
  {
   "cell_type": "markdown",
   "metadata": {},
   "source": [
    "**Query to just get first column out:**"
   ]
  },
  {
   "cell_type": "code",
   "execution_count": 8,
   "metadata": {},
   "outputs": [],
   "source": [
    "simple_col1_query = simple_array_stream.Select(\"lambda e: e.col1\")"
   ]
  },
  {
   "cell_type": "code",
   "execution_count": 9,
   "metadata": {
    "scrolled": false
   },
   "outputs": [
    {
     "name": "stdout",
     "output_type": "stream",
     "text": [
      "Select(source=NumpySourceStream(), selection=Module(body=[Expr(value=Lambda(args=arguments(args=[arg(arg='e', annotation=None)], vararg=None, kwonlyargs=[], kw_defaults=[], kwarg=None, defaults=[]), body=Attribute(value=Name(id='e', ctx=Load()), attr='col1', ctx=Load())))]))\n"
     ]
    }
   ],
   "source": [
    "simple_output = simple_col1_query.value()"
   ]
  },
  {
   "cell_type": "markdown",
   "metadata": {},
   "source": [
    "**Output:**"
   ]
  },
  {
   "cell_type": "code",
   "execution_count": 10,
   "metadata": {},
   "outputs": [
    {
     "data": {
      "text/plain": [
       "array([0., 2., 4., 6., 8.], dtype=float32)"
      ]
     },
     "execution_count": 10,
     "metadata": {},
     "output_type": "execute_result"
    }
   ],
   "source": [
    "simple_output"
   ]
  },
  {
   "cell_type": "code",
   "execution_count": 11,
   "metadata": {},
   "outputs": [],
   "source": [
    "import os"
   ]
  },
  {
   "cell_type": "code",
   "execution_count": 12,
   "metadata": {},
   "outputs": [],
   "source": [
    "os.remove(simple_input_pathname)"
   ]
  },
  {
   "cell_type": "markdown",
   "metadata": {},
   "source": [
    "# Example with multi-entry column in array"
   ]
  },
  {
   "cell_type": "code",
   "execution_count": 13,
   "metadata": {},
   "outputs": [],
   "source": [
    "multidim_array = numpy.ndarray(5, numpy.dtype([('eventNumber', numpy.uint), ('jets', [('pt', numpy.single), ('nTracks', numpy.uint)], 2) ]))\n",
    "n = 0\n",
    "for i in range(5):\n",
    "    multidim_array[i]['eventNumber'] = n\n",
    "    n += 1\n",
    "    for j in range(2):\n",
    "        multidim_array[i]['jets'][j]['pt'] = (i * 2 + j) * 0.3\n",
    "        multidim_array[i]['jets'][j]['nTracks'] = i * 2 + j"
   ]
  },
  {
   "cell_type": "markdown",
   "metadata": {},
   "source": [
    "**Now we have a _jets_ column with a couple properties:**"
   ]
  },
  {
   "cell_type": "code",
   "execution_count": 14,
   "metadata": {},
   "outputs": [
    {
     "data": {
      "text/plain": [
       "array([(0, [(0. , 0), (0.3, 1)]), (1, [(0.6, 2), (0.9, 3)]),\n",
       "       (2, [(1.2, 4), (1.5, 5)]), (3, [(1.8, 6), (2.1, 7)]),\n",
       "       (4, [(2.4, 8), (2.7, 9)])],\n",
       "      dtype=[('eventNumber', '<u8'), ('jets', [('pt', '<f4'), ('nTracks', '<u8')], (2,))])"
      ]
     },
     "execution_count": 14,
     "metadata": {},
     "output_type": "execute_result"
    }
   ],
   "source": [
    "multidim_array"
   ]
  },
  {
   "cell_type": "code",
   "execution_count": 15,
   "metadata": {},
   "outputs": [],
   "source": [
    "multidim_input_pathname = 'multidim_data.npy'"
   ]
  },
  {
   "cell_type": "code",
   "execution_count": 16,
   "metadata": {},
   "outputs": [],
   "source": [
    "numpy.save(multidim_input_pathname, multidim_array)"
   ]
  },
  {
   "cell_type": "code",
   "execution_count": 17,
   "metadata": {},
   "outputs": [],
   "source": [
    "multidim_dataset = ArrayDataSet(multidim_input_pathname)\n",
    "multidim_array_stream = multidim_dataset.AsNumpyArray()"
   ]
  },
  {
   "cell_type": "markdown",
   "metadata": {},
   "source": [
    "**Query to get one property across all jets:**"
   ]
  },
  {
   "cell_type": "code",
   "execution_count": 18,
   "metadata": {},
   "outputs": [],
   "source": [
    "multidim_pt_query = multidim_array_stream.SelectMany(\"lambda e: e.jets\").Select(\"lambda j: j.pt\")"
   ]
  },
  {
   "cell_type": "code",
   "execution_count": 19,
   "metadata": {},
   "outputs": [
    {
     "name": "stdout",
     "output_type": "stream",
     "text": [
      "Select(source=SelectMany(source=NumpySourceStream(), selection=Module(body=[Expr(value=Lambda(args=arguments(args=[arg(arg='e', annotation=None)], vararg=None, kwonlyargs=[], kw_defaults=[], kwarg=None, defaults=[]), body=Attribute(value=Name(id='e', ctx=Load()), attr='jets', ctx=Load())))])), selection=Module(body=[Expr(value=Lambda(args=arguments(args=[arg(arg='j', annotation=None)], vararg=None, kwonlyargs=[], kw_defaults=[], kwarg=None, defaults=[]), body=Attribute(value=Name(id='j', ctx=Load()), attr='pt', ctx=Load())))]))\n"
     ]
    }
   ],
   "source": [
    "multidim_output = multidim_pt_query.value()"
   ]
  },
  {
   "cell_type": "markdown",
   "metadata": {},
   "source": [
    "**Output:**"
   ]
  },
  {
   "cell_type": "code",
   "execution_count": 20,
   "metadata": {},
   "outputs": [
    {
     "data": {
      "text/plain": [
       "array([0. , 0.3, 0.6, 0.9, 1.2, 1.5, 1.8, 2.1, 2.4, 2.7], dtype=float32)"
      ]
     },
     "execution_count": 20,
     "metadata": {},
     "output_type": "execute_result"
    }
   ],
   "source": [
    "multidim_output"
   ]
  },
  {
   "cell_type": "code",
   "execution_count": 21,
   "metadata": {},
   "outputs": [],
   "source": [
    "os.remove(multidim_input_pathname)"
   ]
  },
  {
   "cell_type": "markdown",
   "metadata": {},
   "source": [
    "# Example with awkward array"
   ]
  },
  {
   "cell_type": "code",
   "execution_count": 22,
   "metadata": {},
   "outputs": [],
   "source": [
    "import awkward"
   ]
  },
  {
   "cell_type": "markdown",
   "metadata": {},
   "source": [
    "**Use lists and dictionaries to import as an awkward array:**"
   ]
  },
  {
   "cell_type": "code",
   "execution_count": 23,
   "metadata": {},
   "outputs": [],
   "source": [
    "awkward_array = awkward.fromiter([\n",
    "    {'eventNumber': 0, 'jets': [{'pt': 2.5, 'nTracks': 3}, {'pt': 1.0, 'nTracks': 2}]},\n",
    "    {'eventNumber': 1, 'jets': []},\n",
    "    {'eventNumber': 2, 'jets': [{'pt': 5.0, 'nTracks': 10}]},\n",
    "])"
   ]
  },
  {
   "cell_type": "markdown",
   "metadata": {},
   "source": [
    "**Note that _jets_ now has a variable length**"
   ]
  },
  {
   "cell_type": "code",
   "execution_count": 24,
   "metadata": {},
   "outputs": [],
   "source": [
    "awkward_input_pathname = 'awkward_data.awkd'"
   ]
  },
  {
   "cell_type": "code",
   "execution_count": 25,
   "metadata": {},
   "outputs": [],
   "source": [
    "awkward.save(awkward_input_pathname, awkward_array)"
   ]
  },
  {
   "cell_type": "code",
   "execution_count": 26,
   "metadata": {},
   "outputs": [],
   "source": [
    "awkward_dataset = ArrayDataSet(awkward_input_pathname)\n",
    "awkward_array_stream = awkward_dataset.AsAwkwardArray()"
   ]
  },
  {
   "cell_type": "markdown",
   "metadata": {},
   "source": [
    "**Get _nTracks_ for each jet this time:**"
   ]
  },
  {
   "cell_type": "code",
   "execution_count": 27,
   "metadata": {},
   "outputs": [],
   "source": [
    "awkward_nTracks_query = awkward_array_stream.SelectMany(\"lambda e: e.jets\").Select(\"lambda j: j.nTracks\")"
   ]
  },
  {
   "cell_type": "code",
   "execution_count": 28,
   "metadata": {
    "scrolled": false
   },
   "outputs": [
    {
     "name": "stdout",
     "output_type": "stream",
     "text": [
      "Select(source=SelectMany(source=AwkwardSourceStream(), selection=Module(body=[Expr(value=Lambda(args=arguments(args=[arg(arg='e', annotation=None)], vararg=None, kwonlyargs=[], kw_defaults=[], kwarg=None, defaults=[]), body=Attribute(value=Name(id='e', ctx=Load()), attr='jets', ctx=Load())))])), selection=Module(body=[Expr(value=Lambda(args=arguments(args=[arg(arg='j', annotation=None)], vararg=None, kwonlyargs=[], kw_defaults=[], kwarg=None, defaults=[]), body=Attribute(value=Name(id='j', ctx=Load()), attr='nTracks', ctx=Load())))]))\n"
     ]
    }
   ],
   "source": [
    "awkward_output = awkward_nTracks_query.value()"
   ]
  },
  {
   "cell_type": "markdown",
   "metadata": {},
   "source": [
    "**Output:**"
   ]
  },
  {
   "cell_type": "code",
   "execution_count": 29,
   "metadata": {},
   "outputs": [
    {
     "data": {
      "text/plain": [
       "array([ 3,  2, 10])"
      ]
     },
     "execution_count": 29,
     "metadata": {},
     "output_type": "execute_result"
    }
   ],
   "source": [
    "awkward_output"
   ]
  },
  {
   "cell_type": "code",
   "execution_count": 30,
   "metadata": {},
   "outputs": [],
   "source": [
    "os.remove(awkward_input_pathname)"
   ]
  }
 ],
 "metadata": {
  "kernelspec": {
   "display_name": "Python 3",
   "language": "python",
   "name": "python3"
  },
  "language_info": {
   "codemirror_mode": {
    "name": "ipython",
    "version": 3
   },
   "file_extension": ".py",
   "mimetype": "text/x-python",
   "name": "python",
   "nbconvert_exporter": "python",
   "pygments_lexer": "ipython3",
   "version": "3.7.1"
  }
 },
 "nbformat": 4,
 "nbformat_minor": 2
}
